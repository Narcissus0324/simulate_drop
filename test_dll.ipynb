{
 "cells": [
  {
   "cell_type": "code",
   "execution_count": 1,
   "metadata": {},
   "outputs": [],
   "source": [
    "import ctypes\n",
    "from utils import show_matrix, IntArrayType"
   ]
  },
  {
   "cell_type": "code",
   "execution_count": 2,
   "metadata": {},
   "outputs": [],
   "source": [
    "_mod = ctypes.cdll.LoadLibrary('./libalgo.so')\n",
    "\n",
    "IntArray = IntArrayType()\n",
    "\n",
    "_countOnes = _mod.countOnes\n",
    "_countOnes.argtypes = (IntArray, ctypes.c_int, ctypes.c_int)\n",
    "_countOnes.restype = ctypes.c_int\n",
    "\n",
    "\n",
    "def countOnes(matrix, width, height):\n",
    "    return _countOnes(matrix, width, height)"
   ]
  },
  {
   "cell_type": "code",
   "execution_count": 3,
   "metadata": {},
   "outputs": [
    {
     "name": "stdout",
     "output_type": "stream",
     "text": [
      "[[2003 2006 2002 2002 2006 2002 2003 2006    0]\n",
      " [2006    1    1    1    1    1    1    1    0]\n",
      " [2003    1 2003 2006 2005 2005 2006    1 2006]\n",
      " [2006    1 2006 2006 2002 2002 2003    1 2003]\n",
      " [2003    1 2003 2006    0    0    0    1    0]\n",
      " [2006    1 2006 2006    0    0    0    1    0]\n",
      " [2003    1 2003 2003    0    0    0    1    0]\n",
      " [2006    1 2006 2006 2006    0    0    1    0]\n",
      " [2003    1 2005 2002 2003 2005 2006    1    0]\n",
      " [2005    1    1    1    1    1    1    1 2006]\n",
      " [2005 2003 2006 2002 2003 2006 2003 2006 2003]]\n"
     ]
    }
   ],
   "source": [
    "matrix = [2005,2005,2003,2006,2003,2006,2003,2006,2003,2006,2003,2003,1,1,1,1,1,1,1,1,1,2006,2006,1,2005,2006,2003,2006,2003,2006,2003,1,2002,2002,1,2002,2006,2003,2006,2006,2006,2006,1,2002,2003,1,2003,2006,0,0,0,2002,2005,1,2006,2006,1,2005,0,0,0,0,2002,2005,1,2002,2003,1,2006,0,0,0,0,2003,2006,1,2003,2006,1,1,1,1,1,1,1,1,1,2006,2003,2006,0,0,0,0,0,2003,2006,0,0]\n",
    "\n",
    "show_matrix(matrix, 9, 11)"
   ]
  },
  {
   "cell_type": "code",
   "execution_count": 4,
   "metadata": {},
   "outputs": [],
   "source": [
    "result = countOnes(matrix, 9, 11)"
   ]
  },
  {
   "cell_type": "code",
   "execution_count": 5,
   "metadata": {},
   "outputs": [
    {
     "name": "stdout",
     "output_type": "stream",
     "text": [
      "28\n"
     ]
    }
   ],
   "source": [
    "print(result)"
   ]
  }
 ],
 "metadata": {
  "kernelspec": {
   "display_name": "Python 3",
   "language": "python",
   "name": "python3"
  },
  "language_info": {
   "codemirror_mode": {
    "name": "ipython",
    "version": 3
   },
   "file_extension": ".py",
   "mimetype": "text/x-python",
   "name": "python",
   "nbconvert_exporter": "python",
   "pygments_lexer": "ipython3",
   "version": "3.11.7"
  }
 },
 "nbformat": 4,
 "nbformat_minor": 2
}
